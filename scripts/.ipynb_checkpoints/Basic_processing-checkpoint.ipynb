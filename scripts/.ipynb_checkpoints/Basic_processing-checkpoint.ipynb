{
 "cells": [
  {
   "cell_type": "code",
   "execution_count": 12,
   "metadata": {},
   "outputs": [],
   "source": [
    "import os\n",
    "os.chdir(\"/home/jparkinson/Documents/Wang_Lab_Projects/CBX1/CBX1_GITHUB/cbx1_protein_engineering/scripts\")"
   ]
  },
  {
   "cell_type": "code",
   "execution_count": 13,
   "metadata": {},
   "outputs": [],
   "source": [
    "import prep_enrichment_data\n",
    "from importlib import reload\n",
    "reload(prep_enrichment_data)\n",
    "from prep_enrichment_data import enrichment_subsampling\n",
    "#enrichment_subsampling()"
   ]
  },
  {
   "cell_type": "code",
   "execution_count": 14,
   "metadata": {},
   "outputs": [],
   "source": [
    "import train_models, numpy as np\n",
    "from importlib import reload\n",
    "reload(train_models)\n",
    "from train_models import eval_model, build_models, load_data"
   ]
  },
  {
   "cell_type": "code",
   "execution_count": 10,
   "metadata": {},
   "outputs": [
    {
     "name": "stdout",
     "output_type": "stream",
     "text": [
      "Training set MCC for rf: 0.5437917183017414\n",
      "Validation set MCC for rf: 0.5330537235874364\n",
      "Test set MCC for rf: 0.2973679772833721\n"
     ]
    }
   ],
   "source": [
    "eval_model(\"rf\", look_at_test_set=True)"
   ]
  },
  {
   "cell_type": "code",
   "execution_count": 8,
   "metadata": {
    "scrolled": true
   },
   "outputs": [
    {
     "name": "stdout",
     "output_type": "stream",
     "text": [
      "Current loss: 4.396364212036133\n",
      "Current loss: 4.11981725692749\n",
      "Current loss: 3.8577721118927\n",
      "Current loss: 3.7411303520202637\n",
      "Current loss: 3.9344937801361084\n",
      "Current loss: 3.7173595428466797\n",
      "Current loss: 3.913665533065796\n",
      "Current loss: 3.6051125526428223\n",
      "Current loss: 3.637744188308716\n",
      "Current loss: 3.6158225536346436\n",
      "Current loss: 3.666473388671875\n",
      "Current loss: 3.5512077808380127\n",
      "Current loss: 3.64125657081604\n",
      "Current loss: 3.6491262912750244\n",
      "Current loss: 3.7223424911499023\n",
      "Current loss: 3.4914097785949707\n",
      "Current loss: 3.415259838104248\n",
      "Current loss: 3.4593348503112793\n",
      "Current loss: 3.402665376663208\n",
      "Current loss: 3.5132319927215576\n",
      "Training set MCC for ord: 0.5406034869540527\n",
      "Validation set MCC for ord: 0.5273992671121847\n"
     ]
    }
   ],
   "source": [
    "eval_model(\"ord\")"
   ]
  },
  {
   "cell_type": "code",
   "execution_count": 9,
   "metadata": {},
   "outputs": [
    {
     "name": "stdout",
     "output_type": "stream",
     "text": [
      "Current loss: 0.315436989068985\n",
      "Current loss: 0.03544805571436882\n",
      "Current loss: 0.014701858162879944\n",
      "Current loss: 0.010942710563540459\n",
      "Current loss: 0.0044259740971028805\n",
      "Current loss: 0.0038214074447751045\n",
      "Current loss: 0.0025615354534238577\n",
      "Current loss: 0.002738379640504718\n",
      "Current loss: 0.004295232240110636\n",
      "Current loss: 0.00167078769300133\n",
      "Current loss: 0.0009475562255829573\n",
      "Current loss: 0.0010266632307320833\n",
      "Current loss: 0.0012574479915201664\n",
      "Current loss: 0.0003913789405487478\n",
      "Current loss: 0.00042156409472227097\n",
      "Current loss: 0.0002755698515102267\n",
      "Current loss: 0.0002767417172435671\n",
      "Current loss: 0.000570275413338095\n",
      "Current loss: 0.00023873183818068355\n",
      "Current loss: 0.0004098702920600772\n",
      "Training set MCC for nom: 0.4788075386765855\n",
      "Validation set MCC for nom: 0.4931094794775911\n"
     ]
    }
   ],
   "source": [
    "eval_model(\"nom\")"
   ]
  },
  {
   "cell_type": "code",
   "execution_count": 16,
   "metadata": {},
   "outputs": [
    {
     "name": "stdout",
     "output_type": "stream",
     "text": [
      "Current loss: 2.6472840309143066\n",
      "Current loss: 2.6866514682769775\n",
      "Current loss: 2.6283202171325684\n",
      "Current loss: 2.7238988876342773\n",
      "Current loss: 2.6542370319366455\n",
      "Current loss: 2.5584661960601807\n",
      "Current loss: 2.6627111434936523\n",
      "Current loss: 2.6259748935699463\n",
      "Current loss: 2.6138899326324463\n",
      "Current loss: 2.61260986328125\n",
      "Current loss: 2.608907699584961\n",
      "Current loss: 2.590235710144043\n",
      "Current loss: 2.6391472816467285\n",
      "Current loss: 2.546886920928955\n",
      "Current loss: 2.560600996017456\n",
      "Current loss: 2.6040544509887695\n",
      "Current loss: 2.5935723781585693\n",
      "Current loss: 2.54538893699646\n",
      "Current loss: 2.5392539501190186\n",
      "Current loss: 2.510847330093384\n",
      "Current loss: 2.519489049911499\n",
      "Current loss: 2.5030105113983154\n",
      "Current loss: 2.5638535022735596\n",
      "Current loss: 2.534301519393921\n",
      "Current loss: 2.397794008255005\n",
      "Current loss: 2.4640023708343506\n",
      "Current loss: 2.514601230621338\n",
      "Current loss: 2.40664005279541\n",
      "Current loss: 2.512226104736328\n",
      "Current loss: 2.4931793212890625\n",
      "Training set MCC for bin: 0.44961153447152913\n",
      "Validation set MCC for bin: 0.450900384404289\n",
      "Test set MCC for bin: 0.3740539428017593\n"
     ]
    }
   ],
   "source": [
    "eval_model(\"bin\", look_at_test_set=True)"
   ]
  },
  {
   "cell_type": "code",
   "execution_count": 7,
   "metadata": {},
   "outputs": [
    {
     "name": "stdout",
     "output_type": "stream",
     "text": [
      "Current loss: 0.23221303522586823\n",
      "Current loss: 0.20874357223510742\n",
      "Current loss: 0.20187702775001526\n",
      "Current loss: 0.1929437518119812\n",
      "Current loss: 0.19499552249908447\n",
      "Current loss: 0.18493792414665222\n",
      "Current loss: 0.18261836469173431\n",
      "Current loss: 0.18791666626930237\n",
      "Current loss: 0.17363016307353973\n",
      "Current loss: 0.16571536660194397\n",
      "Current loss: 0.16649919748306274\n",
      "Current loss: 0.16259048879146576\n",
      "Current loss: 0.15487641096115112\n",
      "Current loss: 0.14720110595226288\n",
      "Current loss: 0.14192377030849457\n",
      "Current loss: 0.13862790167331696\n",
      "Current loss: 0.13443715870380402\n",
      "Current loss: 0.12996943295001984\n",
      "Current loss: 0.12571239471435547\n",
      "Current loss: 0.12217775732278824\n",
      "Training set MCC for enrich: -1.291664120335156\n",
      "Validation set MCC for enrich: -2.7642421846015566\n",
      "Test set MCC for enrich: -2.942825538706029\n"
     ]
    }
   ],
   "source": [
    "eval_model(\"enrich\", look_at_test_set=True)"
   ]
  },
  {
   "cell_type": "code",
   "execution_count": 13,
   "metadata": {},
   "outputs": [],
   "source": [
    "import train_models\n",
    "from importlib import reload\n",
    "reload(train_models)\n",
    "from train_models import eval_model, build_models, load_data"
   ]
  },
  {
   "cell_type": "code",
   "execution_count": 15,
   "metadata": {},
   "outputs": [
    {
     "name": "stdout",
     "output_type": "stream",
     "text": [
      "Current loss: 2.832672357559204\n",
      "Current loss: 2.7247965335845947\n",
      "Current loss: 2.681535482406616\n",
      "Current loss: 2.6807544231414795\n",
      "Current loss: 2.6776630878448486\n",
      "Current loss: 2.65571665763855\n",
      "Current loss: 2.654529094696045\n",
      "Current loss: 2.6467795372009277\n",
      "Current loss: 2.6509759426116943\n",
      "Current loss: 2.616642951965332\n",
      "Current loss: 2.6093389987945557\n",
      "Current loss: 2.651794672012329\n",
      "Current loss: 2.6458094120025635\n",
      "Current loss: 2.657150983810425\n",
      "Current loss: 2.662707805633545\n",
      "Current loss: 2.512971878051758\n",
      "Current loss: 2.6472909450531006\n",
      "Current loss: 2.5981569290161133\n",
      "Current loss: 2.5522501468658447\n",
      "Current loss: 2.5881268978118896\n",
      "Current loss: 2.5351722240448\n",
      "Current loss: 2.570662021636963\n",
      "Current loss: 2.477552652359009\n",
      "Current loss: 2.575773000717163\n",
      "Current loss: 2.5448946952819824\n",
      "Current loss: 2.5336804389953613\n",
      "Current loss: 2.4544081687927246\n",
      "Current loss: 2.486905336380005\n",
      "Current loss: 2.4090116024017334\n",
      "Current loss: 2.519461154937744\n"
     ]
    },
    {
     "name": "stderr",
     "output_type": "stream",
     "text": [
      "/home/jparkinson/miniconda3/envs/jupenv/lib/python3.8/site-packages/torch/storage.py:34: FutureWarning: pickle support for Storage will be removed in 1.5. Use `torch.save` instead\n",
      "  warnings.warn(\"pickle support for Storage will be removed in 1.5. Use `torch.save` instead\", FutureWarning)\n"
     ]
    }
   ],
   "source": [
    "xtrain, ytrain, xtest, ytest = load_data(model_type=\"bin\", return_validation_set=False)\n",
    "build_models(xtrain, ytrain, xtest, ytest, \"bin\")"
   ]
  },
  {
   "cell_type": "code",
   "execution_count": 9,
   "metadata": {},
   "outputs": [],
   "source": [
    "xtrain, ytrain, xtest, ytest = load_data(model_type=\"rf\", return_validation_set=False)\n",
    "build_models(xtrain, ytrain, xtest, ytest, model_type=\"rf\")"
   ]
  },
  {
   "cell_type": "code",
   "execution_count": 12,
   "metadata": {},
   "outputs": [
    {
     "name": "stdout",
     "output_type": "stream",
     "text": [
      "Total number of accepted sequences after processing RH01_sequences.txt: 18535\n",
      "Total number of accepted sequences after processing RH02_sequences.txt: 67428\n",
      "Total number of accepted sequences after processing RH03_sequences.txt: 77532\n",
      "Total number of accepted sequences after processing RH04_sequences.txt: 79549\n",
      "Total seqs, 124879; external mutants, 19011\n",
      "total size of dataset prior to sampling: 534950\n",
      "subsampled dataset\n",
      "(16796, 186)\n",
      "iteration 0\n",
      "total size of dataset prior to sampling: 534950\n",
      "subsampled dataset\n",
      "(16814, 186)\n",
      "iteration 1\n",
      "total size of dataset prior to sampling: 534950\n",
      "subsampled dataset\n",
      "(16875, 186)\n",
      "iteration 2\n",
      "total size of dataset prior to sampling: 534950\n",
      "subsampled dataset\n",
      "(16819, 186)\n",
      "iteration 3\n",
      "total size of dataset prior to sampling: 534950\n",
      "subsampled dataset\n",
      "(16899, 186)\n",
      "iteration 4\n",
      "total size of dataset prior to sampling: 534950\n",
      "subsampled dataset\n",
      "(7799, 186)\n",
      "iteration 0\n",
      "total size of dataset prior to sampling: 534950\n",
      "subsampled dataset\n",
      "(7876, 186)\n",
      "iteration 1\n",
      "total size of dataset prior to sampling: 534950\n",
      "subsampled dataset\n",
      "(7866, 186)\n",
      "iteration 2\n",
      "total size of dataset prior to sampling: 534950\n",
      "subsampled dataset\n",
      "(7980, 186)\n",
      "iteration 3\n",
      "total size of dataset prior to sampling: 534950\n",
      "subsampled dataset\n",
      "(7789, 186)\n",
      "iteration 4\n"
     ]
    }
   ],
   "source": [
    "from encode_seq_data import subsample_sequence_encoding\n",
    "subsample_sequence_encoding()"
   ]
  },
  {
   "cell_type": "code",
   "execution_count": 16,
   "metadata": {},
   "outputs": [],
   "source": [
    "xtrain, ytrain, xtest, ytest = load_data(model_type=\"rf\", return_validation_set=False)\n",
    "build_models(xtrain, ytrain, xtest, ytest, model_type=\"rf\", final=True)"
   ]
  },
  {
   "cell_type": "code",
   "execution_count": 18,
   "metadata": {},
   "outputs": [
    {
     "name": "stdout",
     "output_type": "stream",
     "text": [
      "Current loss: 2.736815929412842\n",
      "Current loss: 2.8003287315368652\n",
      "Current loss: 2.7035582065582275\n",
      "Current loss: 2.6611216068267822\n",
      "Current loss: 2.6274232864379883\n",
      "Current loss: 2.6634535789489746\n",
      "Current loss: 2.55729079246521\n",
      "Current loss: 2.561105966567993\n",
      "Current loss: 2.515887498855591\n",
      "Current loss: 2.496915578842163\n",
      "Current loss: 2.499793767929077\n",
      "Current loss: 2.537338972091675\n",
      "Current loss: 2.3797202110290527\n",
      "Current loss: 2.532334089279175\n",
      "Current loss: 2.4772539138793945\n",
      "Current loss: 2.540619134902954\n",
      "Current loss: 2.4301328659057617\n",
      "Current loss: 2.545551061630249\n",
      "Current loss: 2.571545362472534\n",
      "Current loss: 2.6069302558898926\n",
      "Current loss: 2.418175458908081\n",
      "Current loss: 2.4959912300109863\n",
      "Current loss: 2.3274648189544678\n",
      "Current loss: 2.3232507705688477\n",
      "Current loss: 2.331820249557495\n",
      "Current loss: 2.2334330081939697\n",
      "Current loss: 2.3866307735443115\n",
      "Current loss: 2.3673558235168457\n",
      "Current loss: 2.3241827487945557\n",
      "Current loss: 2.2095274925231934\n"
     ]
    },
    {
     "name": "stderr",
     "output_type": "stream",
     "text": [
      "/home/jparkinson/miniconda3/envs/jupenv/lib/python3.8/site-packages/torch/storage.py:34: FutureWarning: pickle support for Storage will be removed in 1.5. Use `torch.save` instead\n",
      "  warnings.warn(\"pickle support for Storage will be removed in 1.5. Use `torch.save` instead\", FutureWarning)\n"
     ]
    }
   ],
   "source": [
    "xtrain, ytrain, xtest, ytest = load_data(model_type=\"bin\", return_validation_set=False)\n",
    "build_models(xtrain, ytrain, xtest, ytest, \"bin\", final=True)"
   ]
  },
  {
   "cell_type": "code",
   "execution_count": 20,
   "metadata": {},
   "outputs": [
    {
     "name": "stdout",
     "output_type": "stream",
     "text": [
      "Current loss: 0.24157805740833282\n",
      "Current loss: 0.23427996039390564\n",
      "Current loss: 0.22942206263542175\n",
      "Current loss: 0.22272954881191254\n",
      "Current loss: 0.22490012645721436\n",
      "Current loss: 0.22483602166175842\n",
      "Current loss: 0.2175654172897339\n",
      "Current loss: 0.20846745371818542\n",
      "Current loss: 0.20399287343025208\n",
      "Current loss: 0.20138977468013763\n",
      "Current loss: 0.19864095747470856\n",
      "Current loss: 0.19601190090179443\n",
      "Current loss: 0.19231489300727844\n",
      "Current loss: 0.18882262706756592\n",
      "Current loss: 0.1853049397468567\n",
      "Current loss: 0.1832779347896576\n",
      "Current loss: 0.1824302226305008\n",
      "Current loss: 0.1814781278371811\n",
      "Current loss: 0.18080785870552063\n",
      "Current loss: 0.17977577447891235\n",
      "Current loss: 0.17801928520202637\n",
      "Current loss: 0.1756063848733902\n",
      "Current loss: 0.17310427129268646\n",
      "Current loss: 0.17066849768161774\n",
      "Current loss: 0.16831980645656586\n",
      "Current loss: 0.16591906547546387\n",
      "Current loss: 0.16335783898830414\n",
      "Current loss: 0.16054530441761017\n",
      "Current loss: 0.1576109081506729\n",
      "Current loss: 0.15430580079555511\n"
     ]
    }
   ],
   "source": [
    "xtrain, ytrain, xtest, ytest = load_data(model_type=\"enrich\", return_validation_set=False)\n",
    "build_models(xtrain, ytrain, xtest, ytest, \"enrich\", final=True)"
   ]
  },
  {
   "cell_type": "code",
   "execution_count": null,
   "metadata": {},
   "outputs": [],
   "source": []
  }
 ],
 "metadata": {
  "kernelspec": {
   "display_name": "Python 3",
   "language": "python",
   "name": "python3"
  },
  "language_info": {
   "codemirror_mode": {
    "name": "ipython",
    "version": 3
   },
   "file_extension": ".py",
   "mimetype": "text/x-python",
   "name": "python",
   "nbconvert_exporter": "python",
   "pygments_lexer": "ipython3",
   "version": "3.8.2"
  }
 },
 "nbformat": 4,
 "nbformat_minor": 4
}
